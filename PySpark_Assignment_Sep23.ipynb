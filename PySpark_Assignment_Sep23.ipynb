{
  "cells": [
    {
      "cell_type": "markdown",
      "metadata": {
        "id": "view-in-github",
        "colab_type": "text"
      },
      "source": [
        "<a href=\"https://colab.research.google.com/github/DevAdedoyin/Applied-Data-Science-Project/blob/master/PySpark_Assignment_Sep23.ipynb\" target=\"_parent\"><img src=\"https://colab.research.google.com/assets/colab-badge.svg\" alt=\"Open In Colab\"/></a>"
      ]
    },
    {
      "cell_type": "markdown",
      "metadata": {
        "id": "ViQdeQ5m1E2Z"
      },
      "source": [
        "# ADS2 - Assignment 1 - Data Handling and Processing with PySpark\n",
        "\n",
        "**STUDENT NAME -**\n",
        "\n",
        "**STUDENT ID -**\n",
        "\n",
        "In this assignment, you will be analysing the popularity of films and TV shows on the streaming platform, Netflix. Using your knowledge of PySpark DataFrames and Spark SQL, you will produce a number of \"downstream\" data products to analyse trends in global streaming habits.\n",
        "\n",
        "Download the dataset from this [Kaggle](https://www.kaggle.com/dhruvildave/netflix-top-10-tv-shows-and-films) page. A copy of the `all_weeks_countries.csv` file is also available on the canvas page for this assignment.\n",
        "\n",
        "Your task is to load in the data and produce a number of \"downstream\" data products and plots as described below.\n",
        "\n",
        "The PySpark installation and setup is provided below for conveinience.\n",
        "\n",
        "IMPORTANT: DO NOT EDIT OR REMOVE THE COMMENT TAGS IN THE CODE CELLS"
      ]
    },
    {
      "cell_type": "code",
      "execution_count": null,
      "metadata": {
        "id": "5lb-Z7ZM8O3s"
      },
      "outputs": [],
      "source": [
        "# CodeGrade Tag Init1\n",
        "\n",
        "# Apache Spark uses Java, so first we must install that\n",
        "!apt-get install openjdk-8-jdk-headless -qq > /dev/null"
      ]
    },
    {
      "cell_type": "code",
      "execution_count": null,
      "metadata": {
        "colab": {
          "base_uri": "https://localhost:8080/"
        },
        "id": "ixa72o938SKP",
        "outputId": "648d418a-1963-4bbe-bbd4-e3d80c0eab38"
      },
      "outputs": [
        {
          "output_type": "stream",
          "name": "stdout",
          "text": [
            "Mounted at /content/drive\n"
          ]
        }
      ],
      "source": [
        "# CodeGrade Tag Init2\n",
        "# Mount Google Drive and unpack Spark\n",
        "from google.colab import drive\n",
        "drive.mount('/content/drive')\n",
        "!tar xzf /content/drive/MyDrive/spark-3.3.0-bin-hadoop3.tgz"
      ]
    },
    {
      "cell_type": "code",
      "execution_count": null,
      "metadata": {
        "id": "yWT7_XiQ8V6u"
      },
      "outputs": [],
      "source": [
        "# CodeGrade Tag Init3\n",
        "# Set up environment variables\n",
        "import os\n",
        "os.environ[\"JAVA_HOME\"] = \"/usr/lib/jvm/java-8-openjdk-amd64\"\n",
        "os.environ[\"SPARK_HOME\"] = \"/content/spark-3.3.0-bin-hadoop3\""
      ]
    },
    {
      "cell_type": "code",
      "execution_count": null,
      "metadata": {
        "id": "UPSvq-aj8Z_k"
      },
      "outputs": [],
      "source": [
        "# CodeGrade Tag Init4\n",
        "# Install findspark, which helps python locate the pyspark module files\n",
        "!pip install -q findspark\n",
        "import findspark\n",
        "findspark.init()"
      ]
    },
    {
      "cell_type": "code",
      "execution_count": null,
      "metadata": {
        "id": "kXT8Q_IO8cVe"
      },
      "outputs": [],
      "source": [
        "# Finally, we initialse a \"SparkSession\", which handles the computations\n",
        "from pyspark.sql import SparkSession\n",
        "spark = SparkSession.builder\\\n",
        "        .master(\"local\")\\\n",
        "        .appName(\"Colab\")\\\n",
        "        .config('spark.ui.port', '4050')\\\n",
        "        .getOrCreate()"
      ]
    },
    {
      "cell_type": "code",
      "execution_count": null,
      "metadata": {
        "id": "nY0UxWbdDcag"
      },
      "outputs": [],
      "source": [
        "# Load the all_weeks_countries.csv into your Colab Notebook as a DataFrame.\n",
        "netflixcsvpath = '/content/all-weeks-countries.csv'\n",
        "\n",
        "# Data is loaded with header: True and an inferred schema\n",
        "netflixDF = (spark\n",
        "           .read\n",
        "           .option('header', 'True')\n",
        "           .option('inferSchema', 'True')\n",
        "           .csv(netflixcsvpath)\n",
        "          )"
      ]
    },
    {
      "cell_type": "code",
      "execution_count": null,
      "metadata": {
        "id": "adZdlbyGL7Mj"
      },
      "outputs": [],
      "source": [
        "# pyspark.sql.functions countains all the transformations and actions you will\n",
        "# need\n",
        "from pyspark.sql import functions as F"
      ]
    },
    {
      "cell_type": "markdown",
      "metadata": {
        "id": "yfW6RnY_GZpE"
      },
      "source": [
        "# Exercise 1 - Data Preparation\n",
        "\n",
        "\n",
        "1.   Create two separate DataFrames for Films and TV.\n",
        "2.   For the Films data, drop the column containing the season names.\n",
        "3.   For the TV data, replace any null values in the season name column with the show name."
      ]
    },
    {
      "cell_type": "code",
      "execution_count": null,
      "metadata": {
        "colab": {
          "base_uri": "https://localhost:8080/"
        },
        "id": "I7PS8iZgqwjt",
        "outputId": "5c316692-d5dc-4ddd-cec7-473445cb026e"
      },
      "outputs": [
        {
          "output_type": "stream",
          "name": "stdout",
          "text": [
            "+------------+------------+-------------------+--------+-----------+--------------------+--------------------+--------------------------+\n",
            "|country_name|country_iso2|               week|category|weekly_rank|          show_title|        season_title|cumulative_weeks_in_top_10|\n",
            "+------------+------------+-------------------+--------+-----------+--------------------+--------------------+--------------------------+\n",
            "|   Argentina|          AR|2022-08-21 00:00:00|   Films|          1|      Look Both Ways|                null|                         1|\n",
            "|   Argentina|          AR|2022-08-21 00:00:00|   Films|          2|           Day Shift|                null|                         2|\n",
            "|   Argentina|          AR|2022-08-21 00:00:00|   Films|          3|Bank Robbers: The...|                null|                         2|\n",
            "|   Argentina|          AR|2022-08-21 00:00:00|   Films|          4|   The Next 365 Days|                null|                         1|\n",
            "|   Argentina|          AR|2022-08-21 00:00:00|   Films|          5|The Angry Birds M...|                null|                         1|\n",
            "|   Argentina|          AR|2022-08-21 00:00:00|   Films|          6|       Purple Hearts|                null|                         4|\n",
            "|   Argentina|          AR|2022-08-21 00:00:00|   Films|          7|      River Runs Red|                null|                         1|\n",
            "|   Argentina|          AR|2022-08-21 00:00:00|   Films|          8|                1917|                null|                         2|\n",
            "|   Argentina|          AR|2022-08-21 00:00:00|   Films|          9|  Code Name: Emperor|                null|                         2|\n",
            "|   Argentina|          AR|2022-08-21 00:00:00|   Films|         10|           Royalteen|                null|                         1|\n",
            "|   Argentina|          AR|2022-08-21 00:00:00|      TV|          1| Pasión de Gavilanes|Pasión de Gavilan...|                         5|\n",
            "|   Argentina|          AR|2022-08-21 00:00:00|      TV|          2|        Another Self|Another Self: Sea...|                         4|\n",
            "|   Argentina|          AR|2022-08-21 00:00:00|      TV|          3| Pasión de Gavilanes|Pasión de Gavilan...|                        58|\n",
            "|   Argentina|          AR|2022-08-21 00:00:00|      TV|          4|            Manifest|  Manifest: Season 1|                         6|\n",
            "|   Argentina|          AR|2022-08-21 00:00:00|      TV|          5|         The Sandman|The Sandman: Seas...|                         3|\n",
            "|   Argentina|          AR|2022-08-21 00:00:00|      TV|          6|Extraordinary Att...|Extraordinary Att...|                         2|\n",
            "|   Argentina|          AR|2022-08-21 00:00:00|      TV|          7|           High Heat| High Heat: Season 1|                         1|\n",
            "|   Argentina|          AR|2022-08-21 00:00:00|      TV|          8|            Manifest|  Manifest: Season 2|                         5|\n",
            "|   Argentina|          AR|2022-08-21 00:00:00|      TV|          9|            Manifest|  Manifest: Season 3|                         4|\n",
            "|   Argentina|          AR|2022-08-21 00:00:00|      TV|         10|   Never Have I Ever|Never Have I Ever...|                         2|\n",
            "+------------+------------+-------------------+--------+-----------+--------------------+--------------------+--------------------------+\n",
            "only showing top 20 rows\n",
            "\n",
            "root\n",
            " |-- country_name: string (nullable = true)\n",
            " |-- country_iso2: string (nullable = true)\n",
            " |-- week: timestamp (nullable = true)\n",
            " |-- category: string (nullable = true)\n",
            " |-- weekly_rank: integer (nullable = true)\n",
            " |-- show_title: string (nullable = true)\n",
            " |-- season_title: string (nullable = true)\n",
            " |-- cumulative_weeks_in_top_10: integer (nullable = true)\n",
            "\n"
          ]
        }
      ],
      "source": [
        "# CodeGrade Tag Ex1a\n",
        "\n",
        "### Display the table and its schema\n",
        "\n",
        "# Display the dataframe table\n",
        "netflixDF.show()\n",
        "\n",
        "# Display the schema\n",
        "netflixDF.printSchema()\n"
      ]
    },
    {
      "cell_type": "code",
      "execution_count": null,
      "metadata": {
        "colab": {
          "base_uri": "https://localhost:8080/"
        },
        "id": "qfke8sGRN5ns",
        "outputId": "b3bc52c0-3c3f-478e-8bf8-3918b8e2e661"
      },
      "outputs": [
        {
          "output_type": "stream",
          "name": "stdout",
          "text": [
            "+------------+------------+-------------------+--------+-----------+--------------------+------------+--------------------------+\n",
            "|country_name|country_iso2|               week|category|weekly_rank|          show_title|season_title|cumulative_weeks_in_top_10|\n",
            "+------------+------------+-------------------+--------+-----------+--------------------+------------+--------------------------+\n",
            "|   Argentina|          AR|2022-08-21 00:00:00|   Films|          1|      Look Both Ways|        null|                         1|\n",
            "|   Argentina|          AR|2022-08-21 00:00:00|   Films|          2|           Day Shift|        null|                         2|\n",
            "|   Argentina|          AR|2022-08-21 00:00:00|   Films|          3|Bank Robbers: The...|        null|                         2|\n",
            "|   Argentina|          AR|2022-08-21 00:00:00|   Films|          4|   The Next 365 Days|        null|                         1|\n",
            "|   Argentina|          AR|2022-08-21 00:00:00|   Films|          5|The Angry Birds M...|        null|                         1|\n",
            "|   Argentina|          AR|2022-08-21 00:00:00|   Films|          6|       Purple Hearts|        null|                         4|\n",
            "|   Argentina|          AR|2022-08-21 00:00:00|   Films|          7|      River Runs Red|        null|                         1|\n",
            "|   Argentina|          AR|2022-08-21 00:00:00|   Films|          8|                1917|        null|                         2|\n",
            "|   Argentina|          AR|2022-08-21 00:00:00|   Films|          9|  Code Name: Emperor|        null|                         2|\n",
            "|   Argentina|          AR|2022-08-21 00:00:00|   Films|         10|           Royalteen|        null|                         1|\n",
            "|   Argentina|          AR|2022-08-14 00:00:00|   Films|          1|Bank Robbers: The...|        null|                         1|\n",
            "|   Argentina|          AR|2022-08-14 00:00:00|   Films|          2|       Purple Hearts|        null|                         3|\n",
            "|   Argentina|          AR|2022-08-14 00:00:00|   Films|          3|                1917|        null|                         1|\n",
            "|   Argentina|          AR|2022-08-14 00:00:00|   Films|          4|           Day Shift|        null|                         1|\n",
            "|   Argentina|          AR|2022-08-14 00:00:00|   Films|          5|  Code Name: Emperor|        null|                         1|\n",
            "|   Argentina|          AR|2022-08-14 00:00:00|   Films|          6|              Carter|        null|                         2|\n",
            "|   Argentina|          AR|2022-08-14 00:00:00|   Films|          7|          Recurrence|        null|                         3|\n",
            "|   Argentina|          AR|2022-08-14 00:00:00|   Films|          8|      Wedding Season|        null|                         2|\n",
            "|   Argentina|          AR|2022-08-14 00:00:00|   Films|          9|        Dreamkatcher|        null|                         1|\n",
            "|   Argentina|          AR|2022-08-14 00:00:00|   Films|         10|        The Gray Man|        null|                         4|\n",
            "+------------+------------+-------------------+--------+-----------+--------------------+------------+--------------------------+\n",
            "only showing top 20 rows\n",
            "\n",
            "+------------+------------+-------------------+--------+-----------+--------------------+--------------------+--------------------------+\n",
            "|country_name|country_iso2|               week|category|weekly_rank|          show_title|        season_title|cumulative_weeks_in_top_10|\n",
            "+------------+------------+-------------------+--------+-----------+--------------------+--------------------+--------------------------+\n",
            "|   Argentina|          AR|2022-08-21 00:00:00|      TV|          1| Pasión de Gavilanes|Pasión de Gavilan...|                         5|\n",
            "|   Argentina|          AR|2022-08-21 00:00:00|      TV|          2|        Another Self|Another Self: Sea...|                         4|\n",
            "|   Argentina|          AR|2022-08-21 00:00:00|      TV|          3| Pasión de Gavilanes|Pasión de Gavilan...|                        58|\n",
            "|   Argentina|          AR|2022-08-21 00:00:00|      TV|          4|            Manifest|  Manifest: Season 1|                         6|\n",
            "|   Argentina|          AR|2022-08-21 00:00:00|      TV|          5|         The Sandman|The Sandman: Seas...|                         3|\n",
            "|   Argentina|          AR|2022-08-21 00:00:00|      TV|          6|Extraordinary Att...|Extraordinary Att...|                         2|\n",
            "|   Argentina|          AR|2022-08-21 00:00:00|      TV|          7|           High Heat| High Heat: Season 1|                         1|\n",
            "|   Argentina|          AR|2022-08-21 00:00:00|      TV|          8|            Manifest|  Manifest: Season 2|                         5|\n",
            "|   Argentina|          AR|2022-08-21 00:00:00|      TV|          9|            Manifest|  Manifest: Season 3|                         4|\n",
            "|   Argentina|          AR|2022-08-21 00:00:00|      TV|         10|   Never Have I Ever|Never Have I Ever...|                         2|\n",
            "|   Argentina|          AR|2022-08-14 00:00:00|      TV|          1| Pasión de Gavilanes|Pasión de Gavilan...|                         4|\n",
            "|   Argentina|          AR|2022-08-14 00:00:00|      TV|          2|        Another Self|Another Self: Sea...|                         3|\n",
            "|   Argentina|          AR|2022-08-14 00:00:00|      TV|          3|         The Sandman|The Sandman: Seas...|                         2|\n",
            "|   Argentina|          AR|2022-08-14 00:00:00|      TV|          4| Pasión de Gavilanes|Pasión de Gavilan...|                        57|\n",
            "|   Argentina|          AR|2022-08-14 00:00:00|      TV|          5|            Manifest|  Manifest: Season 1|                         5|\n",
            "|   Argentina|          AR|2022-08-14 00:00:00|      TV|          6|Extraordinary Att...|Extraordinary Att...|                         1|\n",
            "|   Argentina|          AR|2022-08-14 00:00:00|      TV|          7|                Alba|      Alba: Season 1|                         5|\n",
            "|   Argentina|          AR|2022-08-14 00:00:00|      TV|          8|            Manifest|  Manifest: Season 2|                         4|\n",
            "|   Argentina|          AR|2022-08-14 00:00:00|      TV|          9|            Manifest|  Manifest: Season 3|                         3|\n",
            "|   Argentina|          AR|2022-08-14 00:00:00|      TV|         10|   Never Have I Ever|Never Have I Ever...|                         1|\n",
            "+------------+------------+-------------------+--------+-----------+--------------------+--------------------+--------------------------+\n",
            "only showing top 20 rows\n",
            "\n"
          ]
        }
      ],
      "source": [
        "# CodeGrade Tag Ex1b\n",
        "\n",
        "### Seperate the data into two DataFrames for Films and TV\n",
        "### Call the dataframes tvDF and filmsDF\n",
        "\n",
        "# Filters for \"Films\" category in the dataframe\n",
        "filmsDF = netflixDF.filter(netflixDF[\"category\"] == \"Films\")\n",
        "\n",
        "# Filters for \"TV\" category in the dataframe\n",
        "tvDF = netflixDF.filter(netflixDF[\"category\"] == \"TV\")\n",
        "\n",
        "# Display the top 20 rows of the Films(filmsDF) and TV(tvDF) dataframe\n",
        "filmsDF.show()\n",
        "tvDF.show()"
      ]
    },
    {
      "cell_type": "code",
      "execution_count": null,
      "metadata": {
        "colab": {
          "base_uri": "https://localhost:8080/"
        },
        "id": "X7JsDYkQN7Zw",
        "outputId": "ba515ee0-a79d-4937-bea1-2e7cf3293a1e"
      },
      "outputs": [
        {
          "output_type": "stream",
          "name": "stdout",
          "text": [
            "+------------+------------+-------------------+--------+-----------+--------------------+--------------------------+\n",
            "|country_name|country_iso2|               week|category|weekly_rank|          show_title|cumulative_weeks_in_top_10|\n",
            "+------------+------------+-------------------+--------+-----------+--------------------+--------------------------+\n",
            "|   Argentina|          AR|2022-08-21 00:00:00|   Films|          1|      Look Both Ways|                         1|\n",
            "|   Argentina|          AR|2022-08-21 00:00:00|   Films|          2|           Day Shift|                         2|\n",
            "|   Argentina|          AR|2022-08-21 00:00:00|   Films|          3|Bank Robbers: The...|                         2|\n",
            "|   Argentina|          AR|2022-08-21 00:00:00|   Films|          4|   The Next 365 Days|                         1|\n",
            "|   Argentina|          AR|2022-08-21 00:00:00|   Films|          5|The Angry Birds M...|                         1|\n",
            "|   Argentina|          AR|2022-08-21 00:00:00|   Films|          6|       Purple Hearts|                         4|\n",
            "|   Argentina|          AR|2022-08-21 00:00:00|   Films|          7|      River Runs Red|                         1|\n",
            "|   Argentina|          AR|2022-08-21 00:00:00|   Films|          8|                1917|                         2|\n",
            "|   Argentina|          AR|2022-08-21 00:00:00|   Films|          9|  Code Name: Emperor|                         2|\n",
            "|   Argentina|          AR|2022-08-21 00:00:00|   Films|         10|           Royalteen|                         1|\n",
            "|   Argentina|          AR|2022-08-14 00:00:00|   Films|          1|Bank Robbers: The...|                         1|\n",
            "|   Argentina|          AR|2022-08-14 00:00:00|   Films|          2|       Purple Hearts|                         3|\n",
            "|   Argentina|          AR|2022-08-14 00:00:00|   Films|          3|                1917|                         1|\n",
            "|   Argentina|          AR|2022-08-14 00:00:00|   Films|          4|           Day Shift|                         1|\n",
            "|   Argentina|          AR|2022-08-14 00:00:00|   Films|          5|  Code Name: Emperor|                         1|\n",
            "|   Argentina|          AR|2022-08-14 00:00:00|   Films|          6|              Carter|                         2|\n",
            "|   Argentina|          AR|2022-08-14 00:00:00|   Films|          7|          Recurrence|                         3|\n",
            "|   Argentina|          AR|2022-08-14 00:00:00|   Films|          8|      Wedding Season|                         2|\n",
            "|   Argentina|          AR|2022-08-14 00:00:00|   Films|          9|        Dreamkatcher|                         1|\n",
            "|   Argentina|          AR|2022-08-14 00:00:00|   Films|         10|        The Gray Man|                         4|\n",
            "+------------+------------+-------------------+--------+-----------+--------------------+--------------------------+\n",
            "only showing top 20 rows\n",
            "\n"
          ]
        }
      ],
      "source": [
        "# CodeGrade Tag Ex1c\n",
        "\n",
        "### Drop the 'season_title' column from the Films DataFrame, display the table\n",
        "\n",
        "# Drop the 'season_title' column from the 'filmsDF' DataFrame\n",
        "filmsDF = filmsDF.drop(\"season_title\")\n",
        "\n",
        "# Display the Films(filmsDF) dataframe\n",
        "filmsDF.show()"
      ]
    },
    {
      "cell_type": "code",
      "execution_count": null,
      "metadata": {
        "colab": {
          "base_uri": "https://localhost:8080/"
        },
        "id": "4M83pWB5N9Ar",
        "outputId": "5718fecd-aae1-40f4-e65f-cf1bbb6e83a7"
      },
      "outputs": [
        {
          "output_type": "stream",
          "name": "stdout",
          "text": [
            "+------------+------------+-------------------+--------+-----------+--------------------+--------------------+--------------------------+--------------------+\n",
            "|country_name|country_iso2|               week|category|weekly_rank|          show_title|        season_title|cumulative_weeks_in_top_10|season_title_is_null|\n",
            "+------------+------------+-------------------+--------+-----------+--------------------+--------------------+--------------------------+--------------------+\n",
            "|   Argentina|          AR|2022-08-21 00:00:00|      TV|          1| Pasión de Gavilanes|Pasión de Gavilan...|                         5|               false|\n",
            "|   Argentina|          AR|2022-08-21 00:00:00|      TV|          2|        Another Self|Another Self: Sea...|                         4|               false|\n",
            "|   Argentina|          AR|2022-08-21 00:00:00|      TV|          3| Pasión de Gavilanes|Pasión de Gavilan...|                        58|               false|\n",
            "|   Argentina|          AR|2022-08-21 00:00:00|      TV|          4|            Manifest|  Manifest: Season 1|                         6|               false|\n",
            "|   Argentina|          AR|2022-08-21 00:00:00|      TV|          5|         The Sandman|The Sandman: Seas...|                         3|               false|\n",
            "|   Argentina|          AR|2022-08-21 00:00:00|      TV|          6|Extraordinary Att...|Extraordinary Att...|                         2|               false|\n",
            "|   Argentina|          AR|2022-08-21 00:00:00|      TV|          7|           High Heat| High Heat: Season 1|                         1|               false|\n",
            "|   Argentina|          AR|2022-08-21 00:00:00|      TV|          8|            Manifest|  Manifest: Season 2|                         5|               false|\n",
            "|   Argentina|          AR|2022-08-21 00:00:00|      TV|          9|            Manifest|  Manifest: Season 3|                         4|               false|\n",
            "|   Argentina|          AR|2022-08-21 00:00:00|      TV|         10|   Never Have I Ever|Never Have I Ever...|                         2|               false|\n",
            "|   Argentina|          AR|2022-08-14 00:00:00|      TV|          1| Pasión de Gavilanes|Pasión de Gavilan...|                         4|               false|\n",
            "|   Argentina|          AR|2022-08-14 00:00:00|      TV|          2|        Another Self|Another Self: Sea...|                         3|               false|\n",
            "|   Argentina|          AR|2022-08-14 00:00:00|      TV|          3|         The Sandman|The Sandman: Seas...|                         2|               false|\n",
            "|   Argentina|          AR|2022-08-14 00:00:00|      TV|          4| Pasión de Gavilanes|Pasión de Gavilan...|                        57|               false|\n",
            "|   Argentina|          AR|2022-08-14 00:00:00|      TV|          5|            Manifest|  Manifest: Season 1|                         5|               false|\n",
            "|   Argentina|          AR|2022-08-14 00:00:00|      TV|          6|Extraordinary Att...|Extraordinary Att...|                         1|               false|\n",
            "|   Argentina|          AR|2022-08-14 00:00:00|      TV|          7|                Alba|      Alba: Season 1|                         5|               false|\n",
            "|   Argentina|          AR|2022-08-14 00:00:00|      TV|          8|            Manifest|  Manifest: Season 2|                         4|               false|\n",
            "|   Argentina|          AR|2022-08-14 00:00:00|      TV|          9|            Manifest|  Manifest: Season 3|                         3|               false|\n",
            "|   Argentina|          AR|2022-08-14 00:00:00|      TV|         10|   Never Have I Ever|Never Have I Ever...|                         1|               false|\n",
            "+------------+------------+-------------------+--------+-----------+--------------------+--------------------+--------------------------+--------------------+\n",
            "only showing top 20 rows\n",
            "\n"
          ]
        }
      ],
      "source": [
        "# CodeGrade Tag Ex1d\n",
        "\n",
        "### Use the F.isnull function to create a column showing where there are null\n",
        "### values in the 'season_title' column. Replace the null values with the\n",
        "### corresponding value from the 'show_title' column, then replace the\n",
        "### 'season_title' column in the tvDF DataFrame.\n",
        "\n",
        "# Check for null values in the 'season_title' column and create a new column\n",
        "# 'season_title_is_null'\n",
        "tvDF = tvDF.withColumn(\"season_title_is_null\", F.isnull(tvDF[\"season_title\"]))\n",
        "\n",
        "# Replace null values in 'season_title' with values from 'show_title'\n",
        "tvDF = tvDF.withColumn(\"season_title\",\n",
        "    F.when(tvDF[\"season_title_is_null\"], tvDF[\"show_title\"])\\\n",
        "    .otherwise(tvDF[\"season_title\"]))\n",
        "\n",
        "# Display the modified 'tvDF' DataFrame\n",
        "tvDF.show()\n"
      ]
    },
    {
      "cell_type": "markdown",
      "metadata": {
        "id": "rAHZm5_9IzTn"
      },
      "source": [
        "# Exercise 2\n",
        "\n",
        "Making use of the \"groupBy\" and \"where\" methods, find the number of weeks the show \"Stranger Things\" was in the Top 10 for the United Kingdom across all seasons. Store your result in a variable named \"STWeeks\"\n"
      ]
    },
    {
      "cell_type": "code",
      "execution_count": null,
      "metadata": {
        "colab": {
          "base_uri": "https://localhost:8080/"
        },
        "id": "68QRfnJsvIdt",
        "outputId": "5dfc813f-3ae0-45e7-a419-525e3187faea"
      },
      "outputs": [
        {
          "output_type": "stream",
          "name": "stdout",
          "text": [
            "+---------------+-----------+\n",
            "|     show_title|total_weeks|\n",
            "+---------------+-----------+\n",
            "|Stranger Things|         13|\n",
            "+---------------+-----------+\n",
            "\n"
          ]
        }
      ],
      "source": [
        "# CodeGrade Tag Ex2\n",
        "### Use the \"where\" method to create a new dataframe containing the data for\n",
        "### the show Stranger Things in the Uniter Kingdom. Call this dataframe STDF.\n",
        "\n",
        "\n",
        "### Using \"groupBy\" method and \"F.count_distinct\" function, find the total number of weeks\n",
        "### Stranger Things spent in the top 10 of the UK, across all seasons. Show the\n",
        "### result.\n",
        "\n",
        "# Create a DataFrame \"STDF\" for \"Stranger Things\" in the United Kingdom\n",
        "STDF = netflixDF.where(\n",
        "    (F.col(\"show_title\") == \"Stranger Things\") &\n",
        "     (F.col(\"country_name\") == \"United Kingdom\"))\n",
        "\n",
        "# Group by the show_title and calculate the total number of weeks in the top 10\n",
        "total_weeks = STDF.groupBy(\"show_title\")\\\n",
        "              .agg(F.countDistinct(\"week\").alias(\"total_weeks\"))\n",
        "\n",
        "# Show the result\n",
        "total_weeks.show()"
      ]
    },
    {
      "cell_type": "markdown",
      "metadata": {
        "id": "o1i0AYsUzfOl"
      },
      "source": [
        "# Exercise 3\n",
        "\n",
        "Produce a dataframe containing only the Top 25 TV seasons in the UK, based on the number of weeks they spent in the Top 10."
      ]
    },
    {
      "cell_type": "code",
      "execution_count": null,
      "metadata": {
        "colab": {
          "base_uri": "https://localhost:8080/"
        },
        "id": "JvD5HHZpSOLM",
        "outputId": "1ae3c003-d176-4bd5-cf4f-6778acb5ff4b"
      },
      "outputs": [
        {
          "output_type": "stream",
          "name": "stdout",
          "text": [
            "+------------------+--------------------+-----------+\n",
            "|        show_title|        season_title|total_weeks|\n",
            "+------------------+--------------------+-----------+\n",
            "|   Stranger Things|   Stranger Things 4|         13|\n",
            "|   Stranger Things|   Stranger Things 3|         12|\n",
            "|             Ozark|     Ozark: Season 4|         12|\n",
            "|   Stranger Things|   Stranger Things 2|         11|\n",
            "|  Better Call Saul|Better Call Saul:...|         10|\n",
            "|        Squid Game|Squid Game: Season 1|         10|\n",
            "|   Stranger Things|                null|         10|\n",
            "|              Maid|Maid: Limited Series|          9|\n",
            "|        PAW Patrol|PAW Patrol: Season 6|          9|\n",
            "|        Bridgerton|Bridgerton: Season 2|          9|\n",
            "|Sonic the Hedgehog|                null|          8|\n",
            "|  The Adam Project|                null|          8|\n",
            "|    Inventing Anna|Inventing Anna: L...|          8|\n",
            "|       Money Heist| Money Heist: Part 5|          7|\n",
            "|     PIECES OF HER|PIECES OF HER: Se...|          7|\n",
            "|          Sex/Life|  Sex/Life: Season 1|          7|\n",
            "|               You|       You: Season 3|          6|\n",
            "|The Lincoln Lawyer|The Lincoln Lawye...|          6|\n",
            "|        Red Notice|                null|          6|\n",
            "|        PAW Patrol|PAW Patrol: Season 4|          6|\n",
            "+------------------+--------------------+-----------+\n",
            "only showing top 20 rows\n",
            "\n"
          ]
        }
      ],
      "source": [
        "# CodeGrade Tag Ex3\n",
        "### Produce a dataframe containing the top 25 seasons by number of weeks in the\n",
        "### top 10 of the United Kingdom, sorted by number of weeks. Store the dataframe\n",
        "### in a variable called Top25\n",
        "\n",
        "# Create a DataFrame \"Top25\" containing the top 25 seasons in the United Kingdom\n",
        "Top25 = netflixDF.filter(netflixDF[\"country_name\"] == \"United Kingdom\") \\\n",
        "    .groupBy(\"show_title\", \"season_title\") \\\n",
        "    .agg(F.count(\"week\").alias(\"total_weeks\")) \\\n",
        "    .orderBy(F.col(\"total_weeks\"), ascending=False) \\\n",
        "    .limit(25)\n",
        "\n",
        "# Show the \"Top25\" DataFrame\n",
        "Top25.show()"
      ]
    },
    {
      "cell_type": "markdown",
      "metadata": {
        "id": "QSLCobP5Tpmp"
      },
      "source": [
        "# Exercise 4\n",
        "\n",
        "For the show \"Young Sheldon\", find the country where each season spent the most time in the Top 10."
      ]
    },
    {
      "cell_type": "code",
      "execution_count": null,
      "metadata": {
        "colab": {
          "base_uri": "https://localhost:8080/"
        },
        "id": "ocBh6iMbkQ0t",
        "outputId": "21242d9f-dd0d-4b16-f99d-9a185fb6bd7b"
      },
      "outputs": [
        {
          "output_type": "stream",
          "name": "stdout",
          "text": [
            "+--------------------+---------+---------------------+\n",
            "|        season_title|max_weeks|country_with_max_time|\n",
            "+--------------------+---------+---------------------+\n",
            "|Young Sheldon: : ...|        6|               Canada|\n",
            "|Young Sheldon: : ...|        6|              Ireland|\n",
            "|Young Sheldon: : ...|        4|            Australia|\n",
            "|Young Sheldon: Se...|        1|          New Zealand|\n",
            "+--------------------+---------+---------------------+\n",
            "\n"
          ]
        }
      ],
      "source": [
        "# CodeGrade Tag Ex4\n",
        "### For each season of the show \"Young Sheldon\" find the countries where it spent\n",
        "### the most time in the Top 10\n",
        "\n",
        "# Filter the DataFrame to include only \"Young Sheldon\" rows\n",
        "young_sheldon_df = netflixDF.filter(netflixDF[\"show_title\"] == \"Young Sheldon\")\n",
        "\n",
        "# Group the data by season and country\n",
        "grouped_df = young_sheldon_df.groupBy(\"season_title\", \"country_name\")\n",
        "\n",
        "# Calculate the cumulative weeks in the top 10 for each season in each country\n",
        "max_weeks_df = grouped_df.agg(\n",
        "    F.max(\"cumulative_weeks_in_top_10\").alias(\"max_weeks\"))\n",
        "\n",
        "max_time_df = max_weeks_df.groupBy(\"season_title\", \"country_name\").\\\n",
        "              agg(F.max(\"max_weeks\").alias(\"max_weeks\"))\n",
        "\n",
        "# Find the country where each season spent the most time in the top 10\n",
        "result_df = max_time_df.groupBy(\"season_title\").\\\n",
        "              agg(F.max(\"max_weeks\").alias(\"max_weeks\"),\n",
        "                  F.first(\"country_name\").alias(\"country_with_max_time\"))\n",
        "\n",
        "# Display result\n",
        "result_df.show()\n"
      ]
    },
    {
      "cell_type": "markdown",
      "metadata": {
        "id": "aOi5jbLgTupk"
      },
      "source": [
        "# Exercise 5\n",
        "\n",
        "For each country, find the film that spent the most time in the Top 10."
      ]
    },
    {
      "cell_type": "code",
      "execution_count": null,
      "metadata": {
        "id": "hYz243A8kkNG",
        "colab": {
          "base_uri": "https://localhost:8080/"
        },
        "outputId": "480e04ad-625e-43df-83f7-bc5434f235e6"
      },
      "outputs": [
        {
          "output_type": "stream",
          "name": "stdout",
          "text": [
            "+------------------+---------+--------------------+\n",
            "|      country_name|max_weeks|            top_film|\n",
            "+------------------+---------+--------------------+\n",
            "|         Argentina|       28|       In Good Hands|\n",
            "|         Australia|       36|           Bloodshot|\n",
            "|           Austria|       45|                Buba|\n",
            "|           Bahamas|       45|          The Healer|\n",
            "|           Bahrain|       36|          Spiderhead|\n",
            "|        Bangladesh|      231|             Nikamma|\n",
            "|           Belgium|       36|        Heart Parade|\n",
            "|           Bolivia|      171|Men in Black: Int...|\n",
            "|            Brazil|       28|  The Rhythm Section|\n",
            "|          Bulgaria|      120|G.I. Joe: The Ris...|\n",
            "|            Canada|       28|   Indecent Proposal|\n",
            "|             Chile|       36|   Bohemian Rhapsody|\n",
            "|          Colombia|       78|               Lulli|\n",
            "|        Costa Rica|       55|  Dangerous Liaisons|\n",
            "|           Croatia|      105|              Hustle|\n",
            "|            Cyprus|       78|           Bumblebee|\n",
            "|    Czech Republic|      105|  The Art of Passion|\n",
            "|           Denmark|       78|        The Gray Man|\n",
            "|Dominican Republic|       36|           Day Shift|\n",
            "|           Ecuador|       45|              Hustle|\n",
            "+------------------+---------+--------------------+\n",
            "only showing top 20 rows\n",
            "\n"
          ]
        }
      ],
      "source": [
        "# CodeGrade Tag Ex5\n",
        "### For each country, find the film that spent the most time in the Top 10\n",
        "### Display the results in a Dataframe ordered by country name.\n",
        "\n",
        "# Group the data by country and film to find the total weeks in the top 10\n",
        "groupedDF = filmsDF.groupBy(\"country_name\", \"show_title\").agg(\n",
        "    F.sum(\"cumulative_weeks_in_top_10\").alias(\"total_weeks_in_top_10\")\n",
        ")\n",
        "\n",
        "# Find the film that spent the most time in the top 10 for each country\n",
        "maxWeeksDF = groupedDF.groupBy(\"country_name\").agg(\n",
        "    F.max(\"total_weeks_in_top_10\").alias(\"max_weeks\"),\n",
        "    F.first(\"show_title\").alias(\"top_film\"))\n",
        "\n",
        "# Display the result\n",
        "maxWeeksDF.show()\n"
      ]
    },
    {
      "cell_type": "markdown",
      "metadata": {
        "id": "_YOKr4khadrB"
      },
      "source": [
        "# Exercise 6\n",
        "\n",
        "Calculate the number of weeks each film spent at the number 1 spot of each country's Top 10 list. Then find the films that spent the most time in the number 1 spot for each country."
      ]
    },
    {
      "cell_type": "code",
      "execution_count": null,
      "metadata": {
        "id": "T4KuEbwgbJar",
        "colab": {
          "base_uri": "https://localhost:8080/"
        },
        "outputId": "bf58ff33-d4e4-4b4a-baff-63835de14edc"
      },
      "outputs": [
        {
          "output_type": "stream",
          "name": "stdout",
          "text": [
            "+------------------+---------+--------------------+----------+\n",
            "|      country_name|max_weeks|            top_film|weeks_at_1|\n",
            "+------------------+---------+--------------------+----------+\n",
            "|         Argentina|       28|       In Good Hands|         0|\n",
            "|         Australia|       36|           Bloodshot|         0|\n",
            "|           Austria|       45|                Buba|         0|\n",
            "|           Bahamas|       45|          The Healer|         0|\n",
            "|           Bahrain|       36|          Spiderhead|         0|\n",
            "|        Bangladesh|      231|             Nikamma|         0|\n",
            "|           Belgium|       36|        Heart Parade|         0|\n",
            "|           Bolivia|      171|Men in Black: Int...|         0|\n",
            "|            Brazil|       28|  The Rhythm Section|         0|\n",
            "|          Bulgaria|      120|G.I. Joe: The Ris...|         0|\n",
            "|            Canada|       28|   Indecent Proposal|         0|\n",
            "|             Chile|       36|   Bohemian Rhapsody|         0|\n",
            "|          Colombia|       78|               Lulli|         0|\n",
            "|        Costa Rica|       55|  Dangerous Liaisons|         0|\n",
            "|           Croatia|      105|              Hustle|         0|\n",
            "|            Cyprus|       78|           Bumblebee|         0|\n",
            "|    Czech Republic|      105|  The Art of Passion|         0|\n",
            "|           Denmark|       78|        The Gray Man|         0|\n",
            "|Dominican Republic|       36|           Day Shift|         0|\n",
            "|           Ecuador|       45|              Hustle|         0|\n",
            "+------------------+---------+--------------------+----------+\n",
            "only showing top 20 rows\n",
            "\n"
          ]
        }
      ],
      "source": [
        "# CodeGrade Tag Ex6a\n",
        "\n",
        "### Create a column using the F.when function to calculate the number of weeks a\n",
        "### films spens in the number 1 spot of the Top 10. Use the .otherwise method to\n",
        "### set rows with no number 1 spots to zero. Use the .alias metod to call this\n",
        "### column \"weeks_at_1\"\n",
        "\n",
        "# Find the film that spent the most time in the top 10 for each country\n",
        "maxWeeksDF = groupedDF.groupBy(\"country_name\").agg(\n",
        "    F.max(\"total_weeks_in_top_10\").alias(\"max_weeks\"),\n",
        "    F.first(\"show_title\").alias(\"top_film\")\n",
        ")\n",
        "\n",
        "# Create a new column \"weeks_at_1\" using F.when\n",
        "resultDF = maxWeeksDF.withColumn(\n",
        "    \"weeks_at_1\",\n",
        "    F.when(F.col(\"max_weeks\") == 1, 1).otherwise(0)\n",
        ").orderBy(\"country_name\")\n",
        "\n",
        "# Show the result\n",
        "resultDF.show()"
      ]
    },
    {
      "cell_type": "code",
      "execution_count": 21,
      "metadata": {
        "id": "3bmaFJryC5ub",
        "colab": {
          "base_uri": "https://localhost:8080/"
        },
        "outputId": "82d1055a-c344-4417-8432-7d77afdc68d8"
      },
      "outputs": [
        {
          "output_type": "stream",
          "name": "stdout",
          "text": [
            "+------------------+--------------------+-----------------+\n",
            "|      country_name|            top_film|weeks_in_top_spot|\n",
            "+------------------+--------------------+-----------------+\n",
            "|         Argentina|       In Good Hands|                0|\n",
            "|         Australia|           Bloodshot|                0|\n",
            "|           Austria|                Buba|                0|\n",
            "|           Bahamas|          The Healer|                0|\n",
            "|           Bahrain|          Spiderhead|                0|\n",
            "|        Bangladesh|             Nikamma|                0|\n",
            "|           Belgium|        Heart Parade|                0|\n",
            "|           Bolivia|Men in Black: Int...|                0|\n",
            "|            Brazil|  The Rhythm Section|                0|\n",
            "|          Bulgaria|G.I. Joe: The Ris...|                0|\n",
            "|            Canada|   Indecent Proposal|                0|\n",
            "|             Chile|   Bohemian Rhapsody|                0|\n",
            "|          Colombia|               Lulli|                0|\n",
            "|        Costa Rica|  Dangerous Liaisons|                0|\n",
            "|           Croatia|              Hustle|                0|\n",
            "|            Cyprus|           Bumblebee|                0|\n",
            "|    Czech Republic|  The Art of Passion|                0|\n",
            "|           Denmark|        The Gray Man|                0|\n",
            "|Dominican Republic|           Day Shift|                0|\n",
            "|           Ecuador|              Hustle|                0|\n",
            "+------------------+--------------------+-----------------+\n",
            "only showing top 20 rows\n",
            "\n"
          ]
        }
      ],
      "source": [
        "# CodeGrade Tag Ex6b\n",
        "\n",
        "### Group by country name and sow title, and use the .agg method and your new\n",
        "### column to find the number of weeks each film spent in the top spot for each\n",
        "### country.\n",
        "\n",
        "# Create a new column \"weeks_at_1\" using F.when\n",
        "resultDF = maxWeeksDF.withColumn(\n",
        "    \"weeks_at_1\",\n",
        "    F.when(F.col(\"max_weeks\") == 1, 1).otherwise(0)\n",
        ")\n",
        "\n",
        "# Group by country name and show title, and aggregate the sum of \"weeks_at_1\"\n",
        "finalResultDF = resultDF.groupBy(\"country_name\", \"top_film\").agg(\n",
        "    F.sum(\"weeks_at_1\").alias(\"weeks_in_top_spot\")\n",
        ").orderBy(\"country_name\", \"top_film\")\n",
        "\n",
        "# Show the result\n",
        "finalResultDF.show()"
      ]
    },
    {
      "cell_type": "code",
      "execution_count": 22,
      "metadata": {
        "id": "9apP6VYfTBU-",
        "colab": {
          "base_uri": "https://localhost:8080/"
        },
        "outputId": "ad48d73d-d70c-4560-9fe9-c3d8ab6cde0d"
      },
      "outputs": [
        {
          "output_type": "stream",
          "name": "stdout",
          "text": [
            "+------------------+--------------------+----------+\n",
            "|      country_name|            top_film|weeks_at_1|\n",
            "+------------------+--------------------+----------+\n",
            "|         Argentina|       In Good Hands|         0|\n",
            "|         Australia|           Bloodshot|         0|\n",
            "|           Austria|                Buba|         0|\n",
            "|           Bahamas|          The Healer|         0|\n",
            "|           Bahrain|          Spiderhead|         0|\n",
            "|        Bangladesh|             Nikamma|         0|\n",
            "|           Belgium|        Heart Parade|         0|\n",
            "|           Bolivia|Men in Black: Int...|         0|\n",
            "|            Brazil|  The Rhythm Section|         0|\n",
            "|          Bulgaria|G.I. Joe: The Ris...|         0|\n",
            "|            Canada|   Indecent Proposal|         0|\n",
            "|             Chile|   Bohemian Rhapsody|         0|\n",
            "|          Colombia|               Lulli|         0|\n",
            "|        Costa Rica|  Dangerous Liaisons|         0|\n",
            "|           Croatia|              Hustle|         0|\n",
            "|            Cyprus|           Bumblebee|         0|\n",
            "|    Czech Republic|  The Art of Passion|         0|\n",
            "|           Denmark|        The Gray Man|         0|\n",
            "|Dominican Republic|           Day Shift|         0|\n",
            "|           Ecuador|              Hustle|         0|\n",
            "+------------------+--------------------+----------+\n",
            "only showing top 20 rows\n",
            "\n"
          ]
        }
      ],
      "source": [
        "# CodeGrade Tag Ex6c\n",
        "\n",
        "### Produce a dataframe grouped by country name that contains the show title and\n",
        "### number of weeks at the number 1 spot of the top performing film in each\n",
        "### country.\n",
        "\n",
        "# Create a new column \"weeks_at_1\" using F.when\n",
        "resultDF = maxWeeksDF.withColumn(\n",
        "    \"weeks_at_1\",\n",
        "    F.when(F.col(\"max_weeks\") == 1, 1).otherwise(0)\n",
        ")\n",
        "\n",
        "# Select relevant columns\n",
        "finalResultDF = resultDF.select(\"country_name\", \"top_film\", \"weeks_at_1\").orderBy(\"country_name\")\n",
        "\n",
        "# Show the result\n",
        "finalResultDF.show()"
      ]
    }
  ],
  "metadata": {
    "colab": {
      "provenance": [],
      "include_colab_link": true
    },
    "kernelspec": {
      "display_name": "Python 3",
      "name": "python3"
    },
    "language_info": {
      "name": "python"
    }
  },
  "nbformat": 4,
  "nbformat_minor": 0
}